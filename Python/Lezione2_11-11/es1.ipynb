{
 "cells": [
  {
   "metadata": {
    "ExecuteTime": {
     "end_time": "2024-11-11T11:32:33.596979Z",
     "start_time": "2024-11-11T11:32:33.593199Z"
    }
   },
   "cell_type": "code",
   "source": [
    "def my_fun(n,m): \n",
    "    return lambda x, y: x*y*n*m"
   ],
   "id": "337185c9786072ab",
   "outputs": [],
   "execution_count": 4
  },
  {
   "metadata": {},
   "cell_type": "markdown",
   "source": "#### Crea una funzione che moltiplica un input per n",
   "id": "5b146a80a12a4d7f"
  },
  {
   "metadata": {
    "ExecuteTime": {
     "end_time": "2024-11-11T11:33:03.686745Z",
     "start_time": "2024-11-11T11:33:03.683192Z"
    }
   },
   "cell_type": "code",
   "source": [
    "my_double = my_fun(3,4)\n",
    "\n",
    "print(my_double(111,222))\n"
   ],
   "id": "dd5e466feef19f2e",
   "outputs": [
    {
     "name": "stdout",
     "output_type": "stream",
     "text": [
      "295704\n"
     ]
    }
   ],
   "execution_count": 6
  },
  {
   "metadata": {},
   "cell_type": "markdown",
   "source": "### Setto x = 111, y=222, n=3, m=4",
   "id": "dca1d8c5cee24ce3"
  },
  {
   "metadata": {
    "ExecuteTime": {
     "end_time": "2024-11-11T11:37:08.904644Z",
     "start_time": "2024-11-11T11:37:08.901236Z"
    }
   },
   "cell_type": "code",
   "source": [
    "def my_fun2():\n",
    "    global pippo\n",
    "    pippo=4\n",
    "    print(pippo)\n",
    "    \n",
    "def my_fun3():\n",
    "    #global pippo\n",
    "    pippo=5\n",
    "    print(pippo)"
   ],
   "id": "9675783bf251720b",
   "outputs": [],
   "execution_count": 13
  },
  {
   "metadata": {
    "ExecuteTime": {
     "end_time": "2024-11-11T11:37:10.688197Z",
     "start_time": "2024-11-11T11:37:10.682151Z"
    }
   },
   "cell_type": "code",
   "source": [
    "pippo=2\n",
    "my_fun2()\n",
    "my_fun3()"
   ],
   "id": "1e2393649fac67fd",
   "outputs": [
    {
     "name": "stdout",
     "output_type": "stream",
     "text": [
      "4\n",
      "5\n"
     ]
    }
   ],
   "execution_count": 14
  },
  {
   "metadata": {},
   "cell_type": "markdown",
   "source": "# ESERCIZIO 2",
   "id": "34bcd693e87305de"
  },
  {
   "metadata": {
    "ExecuteTime": {
     "end_time": "2024-11-11T11:50:04.360660Z",
     "start_time": "2024-11-11T11:50:04.355063Z"
    }
   },
   "cell_type": "code",
   "source": "import fruits",
   "id": "1f5be0ff88edd429",
   "outputs": [],
   "execution_count": 15
  },
  {
   "metadata": {
    "ExecuteTime": {
     "end_time": "2024-11-11T11:52:57.986747Z",
     "start_time": "2024-11-11T11:52:57.971062Z"
    }
   },
   "cell_type": "code",
   "source": [
    "mango=fruits.tropical_fruit(fruits.fruit(\"mango\",\"yellow\"),\"ohio\")\n",
    "mango.print_info()"
   ],
   "id": "106dd2bea575f9f8",
   "outputs": [
    {
     "ename": "TypeError",
     "evalue": "tropical_fruit.__init__() missing 1 required positional argument: 'country'",
     "output_type": "error",
     "traceback": [
      "\u001B[0;31m---------------------------------------------------------------------------\u001B[0m",
      "\u001B[0;31mTypeError\u001B[0m                                 Traceback (most recent call last)",
      "Cell \u001B[0;32mIn[17], line 1\u001B[0m\n\u001B[0;32m----> 1\u001B[0m mango\u001B[38;5;241m=\u001B[39mfruits\u001B[38;5;241m.\u001B[39mtropical_fruit(fruits\u001B[38;5;241m.\u001B[39mfruit(\u001B[38;5;124m\"\u001B[39m\u001B[38;5;124mmango\u001B[39m\u001B[38;5;124m\"\u001B[39m,\u001B[38;5;124m\"\u001B[39m\u001B[38;5;124myellow\u001B[39m\u001B[38;5;124m\"\u001B[39m),\u001B[38;5;124m\"\u001B[39m\u001B[38;5;124mohio\u001B[39m\u001B[38;5;124m\"\u001B[39m)\n\u001B[1;32m      2\u001B[0m mango\u001B[38;5;241m.\u001B[39mprint_info()\n",
      "\u001B[0;31mTypeError\u001B[0m: tropical_fruit.__init__() missing 1 required positional argument: 'country'"
     ]
    }
   ],
   "execution_count": 17
  }
 ],
 "metadata": {
  "kernelspec": {
   "display_name": "Python 3",
   "language": "python",
   "name": "python3"
  },
  "language_info": {
   "codemirror_mode": {
    "name": "ipython",
    "version": 2
   },
   "file_extension": ".py",
   "mimetype": "text/x-python",
   "name": "python",
   "nbconvert_exporter": "python",
   "pygments_lexer": "ipython2",
   "version": "2.7.6"
  }
 },
 "nbformat": 4,
 "nbformat_minor": 5
}
