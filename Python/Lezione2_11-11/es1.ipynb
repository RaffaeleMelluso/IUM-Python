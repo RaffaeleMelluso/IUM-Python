{
 "cells": [
  {
   "metadata": {
    "ExecuteTime": {
     "end_time": "2024-11-11T11:32:33.596979Z",
     "start_time": "2024-11-11T11:32:33.593199Z"
    }
   },
   "cell_type": "code",
   "source": [
    "from fontTools.merge.util import avg_int\n",
    "from numpy.ma.extras import average\n",
    "\n",
    "\n",
    "def my_fun(n,m): \n",
    "    return lambda x, y: x*y*n*m"
   ],
   "id": "337185c9786072ab",
   "outputs": [],
   "execution_count": 4
  },
  {
   "metadata": {},
   "cell_type": "markdown",
   "source": "#### Crea una funzione che moltiplica un input per n",
   "id": "5b146a80a12a4d7f"
  },
  {
   "metadata": {
    "ExecuteTime": {
     "end_time": "2024-11-11T11:33:03.686745Z",
     "start_time": "2024-11-11T11:33:03.683192Z"
    }
   },
   "cell_type": "code",
   "source": [
    "my_double = my_fun(3,4)\n",
    "\n",
    "print(my_double(111,222))\n"
   ],
   "id": "dd5e466feef19f2e",
   "outputs": [
    {
     "name": "stdout",
     "output_type": "stream",
     "text": [
      "295704\n"
     ]
    }
   ],
   "execution_count": 6
  },
  {
   "metadata": {},
   "cell_type": "markdown",
   "source": "### Setto x = 111, y=222, n=3, m=4",
   "id": "dca1d8c5cee24ce3"
  },
  {
   "metadata": {
    "ExecuteTime": {
     "end_time": "2024-11-11T11:37:08.904644Z",
     "start_time": "2024-11-11T11:37:08.901236Z"
    }
   },
   "cell_type": "code",
   "source": [
    "def my_fun2():\n",
    "    global pippo\n",
    "    pippo=4\n",
    "    print(pippo)\n",
    "    \n",
    "def my_fun3():\n",
    "    #global pippo\n",
    "    pippo=5\n",
    "    print(pippo)"
   ],
   "id": "9675783bf251720b",
   "outputs": [],
   "execution_count": 13
  },
  {
   "metadata": {
    "ExecuteTime": {
     "end_time": "2024-11-11T11:37:10.688197Z",
     "start_time": "2024-11-11T11:37:10.682151Z"
    }
   },
   "cell_type": "code",
   "source": [
    "pippo=2\n",
    "my_fun2()\n",
    "my_fun3()"
   ],
   "id": "1e2393649fac67fd",
   "outputs": [
    {
     "name": "stdout",
     "output_type": "stream",
     "text": [
      "4\n",
      "5\n"
     ]
    }
   ],
   "execution_count": 14
  },
  {
   "metadata": {},
   "cell_type": "markdown",
   "source": "# ESERCIZIO 2",
   "id": "34bcd693e87305de"
  },
  {
   "metadata": {
    "ExecuteTime": {
     "end_time": "2024-11-12T10:20:18.963024Z",
     "start_time": "2024-11-12T10:20:18.958245Z"
    }
   },
   "cell_type": "code",
   "source": "import fruits",
   "id": "1f5be0ff88edd429",
   "outputs": [],
   "execution_count": 1
  },
  {
   "metadata": {
    "ExecuteTime": {
     "end_time": "2024-11-12T10:20:40.938189Z",
     "start_time": "2024-11-12T10:20:40.933775Z"
    }
   },
   "cell_type": "code",
   "source": [
    "mango=fruits.tropical_fruit(\"mango\",\"yellow\",\"ohio\")\n",
    "mango.print_info()"
   ],
   "id": "106dd2bea575f9f8",
   "outputs": [
    {
     "name": "stdout",
     "output_type": "stream",
     "text": [
      "This is a yellow mango from ohio\n"
     ]
    }
   ],
   "execution_count": 3
  },
  {
   "metadata": {},
   "cell_type": "markdown",
   "source": "# ESERCIZIO SALARIO",
   "id": "a5b3615ef1c44adb"
  },
  {
   "metadata": {
    "ExecuteTime": {
     "end_time": "2024-11-12T10:57:21.339663Z",
     "start_time": "2024-11-12T10:57:21.335583Z"
    }
   },
   "cell_type": "code",
   "source": [
    "employees = [{ \"name\": \"John\", \"department\":\"Pork\", \"salary\": 50000 },\n",
    "             { \"name\": \"Jane\", \"department\":\"Pork\", \"salary\": 60000 },\n",
    "             { \"name\": \"Jack\", \"department\":\"Pork\", \"salary\": 70000 },\n",
    "             { \"name\": \"Jill\", \"department\":\"Pork\", \"salary\": 80000 },\n",
    "             { \"name\": \"Jenny\", \"department\":\"Mango\", \"salary\": 1},\n",
    "             ]\n",
    "print(sum([x[\"salary\"] for x in employees])/len(employees))\n",
    "print([x[\"name\"] for x in employees if x[\"department\"]==\"Pork\"])\n",
    "minS=min([x[\"salary\"] for x in employees])\n",
    "maxS=max([x[\"salary\"] for x in employees])\n",
    "print([x[\"name\"] for x in employees if x[\"salary\"]==minS])\n",
    "print([x[\"name\"] for x in employees if x[\"salary\"]==maxS])\n",
    "for employee in employees:\n",
    "    employee[\"salary\"] = int(employee[\"salary\"] * 1.1) \n",
    "print(employees)"
   ],
   "id": "992e196497e9fcda",
   "outputs": [
    {
     "name": "stdout",
     "output_type": "stream",
     "text": [
      "52000.2\n",
      "['John', 'Jane', 'Jack', 'Jill']\n",
      "['Jenny']\n",
      "['Jill']\n",
      "[{'name': 'John', 'department': 'Pork', 'salary': 55000}, {'name': 'Jane', 'department': 'Pork', 'salary': 66000}, {'name': 'Jack', 'department': 'Pork', 'salary': 77000}, {'name': 'Jill', 'department': 'Pork', 'salary': 88000}, {'name': 'Jenny', 'department': 'Mango', 'salary': 1}]\n"
     ]
    }
   ],
   "execution_count": 7
  }
 ],
 "metadata": {
  "kernelspec": {
   "display_name": "Python 3",
   "language": "python",
   "name": "python3"
  },
  "language_info": {
   "codemirror_mode": {
    "name": "ipython",
    "version": 2
   },
   "file_extension": ".py",
   "mimetype": "text/x-python",
   "name": "python",
   "nbconvert_exporter": "python",
   "pygments_lexer": "ipython2",
   "version": "2.7.6"
  }
 },
 "nbformat": 4,
 "nbformat_minor": 5
}
