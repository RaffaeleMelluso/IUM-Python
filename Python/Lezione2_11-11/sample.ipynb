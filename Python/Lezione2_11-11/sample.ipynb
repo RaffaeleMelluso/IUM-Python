{
 "cells": [
  {
   "metadata": {},
   "cell_type": "markdown",
   "source": "",
   "id": "370760cfda878d1f"
  },
  {
   "metadata": {},
   "cell_type": "markdown",
   "source": [
    "print(\"Hello World!\")\n",
    "print(3*4)"
   ],
   "id": "224ff85ad48239b1"
  },
  {
   "metadata": {},
   "cell_type": "markdown",
   "source": [
    "# Mi piacciono i piedini anime\n",
    "## Pycharm merda"
   ],
   "id": "65e432b6ac0373f7"
  },
  {
   "metadata": {},
   "cell_type": "markdown",
   "source": "",
   "id": "a43541e93e2ec3b9"
  },
  {
   "metadata": {
    "ExecuteTime": {
     "end_time": "2024-11-11T11:22:15.969628Z",
     "start_time": "2024-11-11T11:22:15.964279Z"
    }
   },
   "cell_type": "code",
   "source": "print(\"## Niggativity\")",
   "id": "ededfc518717892",
   "outputs": [
    {
     "name": "stdout",
     "output_type": "stream",
     "text": [
      "## Niggativity\n"
     ]
    }
   ],
   "execution_count": 3
  },
  {
   "metadata": {
    "ExecuteTime": {
     "end_time": "2024-11-11T11:22:16.791084Z",
     "start_time": "2024-11-11T11:22:16.787532Z"
    }
   },
   "cell_type": "code",
   "source": "",
   "id": "5dd219fe354f9b38",
   "outputs": [],
   "execution_count": null
  },
  {
   "metadata": {},
   "cell_type": "code",
   "outputs": [],
   "execution_count": null,
   "source": "",
   "id": "13188855d301461"
  }
 ],
 "metadata": {
  "kernelspec": {
   "display_name": "Python 3",
   "language": "python",
   "name": "python3"
  },
  "language_info": {
   "codemirror_mode": {
    "name": "ipython",
    "version": 2
   },
   "file_extension": ".py",
   "mimetype": "text/x-python",
   "name": "python",
   "nbconvert_exporter": "python",
   "pygments_lexer": "ipython2",
   "version": "2.7.6"
  }
 },
 "nbformat": 4,
 "nbformat_minor": 5
}
